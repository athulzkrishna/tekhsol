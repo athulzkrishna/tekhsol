{
 "cells": [
  {
   "cell_type": "code",
   "execution_count": 1,
   "metadata": {},
   "outputs": [],
   "source": [
    "import openpyxl\n",
    "#number of stops\n",
    "from datetime import datetime\n",
    "import glob, os\n",
    "os.chdir(\"C:\\\\Users\\\\Athul krishna\\\\myexcels\\\\production\\\\\")"
   ]
  },
  {
   "cell_type": "code",
   "execution_count": 2,
   "metadata": {},
   "outputs": [],
   "source": [
    "import pandas as pd\n",
    "import numpy as np\n",
    "import matplotlib.pyplot as plt\n",
    "from matplotlib.ticker import StrMethodFormatter"
   ]
  },
  {
   "cell_type": "markdown",
   "metadata": {},
   "source": [
    "# Collecting Data:\n",
    "**Data** is imported from the excel from every *month*.\n",
    "There are currently *Seven excels* given as **DataSet**:\n",
    "  * product06.xlsx\n",
    "  * product07.xml.xlsx\n",
    "  * product08.xml.xlsx\n",
    "  * product09.xml.xlsx\n",
    "  * product10.xml.xlsx\n",
    "  * product11.xml.xlsx\n",
    "  * product12.xml.xlsx\n"
   ]
  },
  {
   "cell_type": "code",
   "execution_count": 3,
   "metadata": {
    "scrolled": true
   },
   "outputs": [],
   "source": [
    "from collections import defaultdict\n",
    "w=defaultdict(list)\n",
    "#for file in glob.glob(\"*.xlsx\"):\n",
    "    #print(file)"
   ]
  },
  {
   "cell_type": "code",
   "execution_count": 4,
   "metadata": {},
   "outputs": [],
   "source": [
    "def check(d):\n",
    "    if type(d) is datetime:\n",
    "        month = d.strftime(\"%m\")\n",
    "        year=d.strftime(\"%Y\")\n",
    "        return month+year\n",
    "    else:\n",
    "        return d[5:7]+d[:4]\n",
    "        "
   ]
  },
  {
   "cell_type": "code",
   "execution_count": 5,
   "metadata": {},
   "outputs": [],
   "source": [
    "from collections import defaultdict\n",
    "d=defaultdict(lambda:0)"
   ]
  },
  {
   "cell_type": "code",
   "execution_count": 6,
   "metadata": {},
   "outputs": [],
   "source": [
    "def numberofstops(file,d):\n",
    "    \n",
    "    wb_obj = openpyxl.load_workbook(file) \n",
    "    sheet_obj = wb_obj.active\n",
    "    c1=9\n",
    "    #l=[]\n",
    "\n",
    "    for i in range(2,sheet_obj.max_row+1):\n",
    "        c=0\n",
    "        for j in range(19,34,2):\n",
    "            if float(sheet_obj.cell(row = i, column = j).value)>0:\n",
    "                c+=1\n",
    "\n",
    "        #month = now.strftime(\"%m\")\n",
    "\n",
    "        d[check(sheet_obj.cell(row = i, column = c1).value)]+=c\n",
    "        #l.append(check(sheet_obj.cell(row = i, column = c1).value))\n",
    "    \n",
    "#print(l) \n",
    "#print(d)\n",
    "    "
   ]
  },
  {
   "cell_type": "code",
   "execution_count": 7,
   "metadata": {},
   "outputs": [],
   "source": [
    "for file in glob.glob(\"*.xlsx\"):\n",
    "    numberofstops(file,d)\n",
    "#print(d)    "
   ]
  },
  {
   "cell_type": "markdown",
   "metadata": {},
   "source": [
    "# Method:\n",
    "In our dataset, we have duration specified in seconds. So the cells where the **stoppage duration** is equal to 0 is neglected and cells which contain values greater than 0 is considered for calculation of total number of stoppages."
   ]
  },
  {
   "cell_type": "code",
   "execution_count": 8,
   "metadata": {},
   "outputs": [
    {
     "name": "stdout",
     "output_type": "stream",
     "text": [
      "['06', '07', '08', '09', '10', '11', '12']\n",
      "[8023, 4077, 3335, 3905, 3997, 4284, 4275]\n",
      "[6, 7, 8, 9, 10, 11, 12]\n"
     ]
    }
   ],
   "source": [
    "#stoppage duration\n",
    "m=[]\n",
    "val=[]\n",
    "for i in d.keys():\n",
    "    m.append(i[:2])\n",
    "    val.append(d[i])\n",
    "print(m)\n",
    "print(val)\n",
    "q=[]\n",
    "for i in m:\n",
    "    q.append(int(i))\n",
    "print(q)    "
   ]
  },
  {
   "cell_type": "code",
   "execution_count": 9,
   "metadata": {},
   "outputs": [
    {
     "data": {
      "text/html": [
       "<div>\n",
       "<style scoped>\n",
       "    .dataframe tbody tr th:only-of-type {\n",
       "        vertical-align: middle;\n",
       "    }\n",
       "\n",
       "    .dataframe tbody tr th {\n",
       "        vertical-align: top;\n",
       "    }\n",
       "\n",
       "    .dataframe thead th {\n",
       "        text-align: right;\n",
       "    }\n",
       "</style>\n",
       "<table border=\"1\" class=\"dataframe\">\n",
       "  <thead>\n",
       "    <tr style=\"text-align: right;\">\n",
       "      <th></th>\n",
       "      <th>Month</th>\n",
       "      <th>No.of Stoppages</th>\n",
       "    </tr>\n",
       "  </thead>\n",
       "  <tbody>\n",
       "    <tr>\n",
       "      <th>0</th>\n",
       "      <td>06</td>\n",
       "      <td>8023</td>\n",
       "    </tr>\n",
       "    <tr>\n",
       "      <th>1</th>\n",
       "      <td>07</td>\n",
       "      <td>4077</td>\n",
       "    </tr>\n",
       "    <tr>\n",
       "      <th>2</th>\n",
       "      <td>08</td>\n",
       "      <td>3335</td>\n",
       "    </tr>\n",
       "    <tr>\n",
       "      <th>3</th>\n",
       "      <td>09</td>\n",
       "      <td>3905</td>\n",
       "    </tr>\n",
       "    <tr>\n",
       "      <th>4</th>\n",
       "      <td>10</td>\n",
       "      <td>3997</td>\n",
       "    </tr>\n",
       "  </tbody>\n",
       "</table>\n",
       "</div>"
      ],
      "text/plain": [
       "  Month  No.of Stoppages\n",
       "0    06             8023\n",
       "1    07             4077\n",
       "2    08             3335\n",
       "3    09             3905\n",
       "4    10             3997"
      ]
     },
     "execution_count": 9,
     "metadata": {},
     "output_type": "execute_result"
    }
   ],
   "source": [
    "df = pd.DataFrame(list(zip(m,val)), \n",
    "               columns =['Month', 'No.of Stoppages'])\n",
    "x=df\n",
    "x.head()\n"
   ]
  },
  {
   "cell_type": "code",
   "execution_count": 10,
   "metadata": {},
   "outputs": [
    {
     "data": {
      "image/png": "[encoded data removed]",
      "text/plain": [
       "<Figure size 576x720 with 1 Axes>"
      ]
     },
     "metadata": {
      "needs_background": "light"
     },
     "output_type": "display_data"
    }
   ],
   "source": [
    "ax = x.plot(kind='barh', figsize=(8, 10), color='#86bf91', zorder=2, width=0.60)\n",
    "\n",
    "  # Despine\n",
    "ax.spines['right'].set_visible(False)\n",
    "ax.spines['top'].set_visible(False)\n",
    "ax.spines['left'].set_visible(False)\n",
    "ax.spines['bottom'].set_visible(False)\n",
    "\n",
    "  # Switch off ticks\n",
    "ax.tick_params(axis=\"both\", which=\"both\", bottom=\"off\", top=\"off\", labelbottom=\"on\", left=\"off\", right=\"off\", labelleft=\"on\")\n",
    "\n",
    "  # Draw vertical axis lines\n",
    "vals = ax.get_xticks()\n",
    "for tick in vals:\n",
    "      ax.axvline(x=tick, linestyle='dashed', alpha=0.5, color='#eeeeee', zorder=1)\n",
    "\n",
    "  # Set x-axis label\n",
    "ax.set_xlabel(\"No.of Stoppages\", labelpad=20, weight='bold', size=12)\n",
    "\n",
    "  # Set y-axis label\n",
    "ax.set_ylabel(\"Month\", labelpad=20, weight='bold', size=12)\n",
    "\n",
    "  # Format y-axis label\n",
    "ax.xaxis.set_major_formatter(StrMethodFormatter('{x:,g}'))"
   ]
  },
  {
   "cell_type": "markdown",
   "metadata": {},
   "source": [
    "# Efficient Month:\n",
    "The efficiency of **production** is calculated on the basis of **number of working hours** and the total time based on each month's *number of working days.*"
   ]
  },
  {
   "cell_type": "code",
   "execution_count": 11,
   "metadata": {},
   "outputs": [],
   "source": [
    "def chec(d):\n",
    "    if type(d) is datetime:\n",
    "        month = d.strftime(\"%m\")\n",
    "        year=d.strftime(\"%Y\")\n",
    "        day=d.strftime(\"%d\")\n",
    "        return day+month+year\n",
    "    else:\n",
    "        return d[8:10]+d[5:7]+d[:4]"
   ]
  },
  {
   "cell_type": "code",
   "execution_count": 12,
   "metadata": {},
   "outputs": [
    {
     "name": "stdout",
     "output_type": "stream",
     "text": [
      "('062020', {'30062020', '26062020', '25062020', '29062020', '20062020', '21062020', '24062020', '22062020', '28062020', '27062020', '23062020'})\n",
      "('072020', {'06072020', '05072020', '04072020', '03072020', '02072020', '01072020'})\n",
      "('082020', {'03082020', '29082020', '01082020', '25082020', '04082020', '27082020', '05082020', '02082020', '06082020'})\n",
      "('092020', {'26092020', '01092020', '05092020', '11092020', '04092020', '03092020', '02092020'})\n",
      "('102020', {'01102020', '02102020', '04102020', '05102020', '31102020', '03102020'})\n",
      "('112020', {'30112020', '05112020', '02112020', '04112020', '01112020', '03112020'})\n",
      "('122020', {'05122020', '02122020', '04122020', '01122020', '03122020'})\n"
     ]
    }
   ],
   "source": [
    "from collections import defaultdict\n",
    "f=defaultdict(set)\n",
    "def uniqdays(file,d):\n",
    "    \n",
    "    wb_obj = openpyxl.load_workbook(file) \n",
    "    sheet_obj = wb_obj.active\n",
    "    c1=9\n",
    "    #l=[]\n",
    "\n",
    "    for i in range(2,sheet_obj.max_row+1):\n",
    "\n",
    "\n",
    "        #month = now.strftime(\"%m\")\n",
    "\n",
    "        d[check(sheet_obj.cell(row = i, column = c1).value)].add(chec(sheet_obj.cell(row = i, column = c1).value))\n",
    "        #l.append(check(sheet_obj.cell(row = i, column = c1).value))\n",
    "    \n",
    "#print(l) \n",
    "for file in glob.glob(\"*.xlsx\"):\n",
    "    uniqdays(file,f)\n",
    "#print(d)  \n",
    "dicts={}\n",
    "for i in f.items():\n",
    "    print(i)\n",
    "    \n"
   ]
  },
  {
   "cell_type": "code",
   "execution_count": null,
   "metadata": {},
   "outputs": [],
   "source": []
  }
 ],
 "metadata": {
  "hide_input": false,
  "kernelspec": {
   "display_name": "Python 3",
   "language": "python",
   "name": "python3"
  },
  "language_info": {
   "codemirror_mode": {
    "name": "ipython",
    "version": 3
   },
   "file_extension": ".py",
   "mimetype": "text/x-python",
   "name": "python",
   "nbconvert_exporter": "python",
   "pygments_lexer": "ipython3",
   "version": "3.8.5"
  }
 },
 "nbformat": 4,
 "nbformat_minor": 4
}
