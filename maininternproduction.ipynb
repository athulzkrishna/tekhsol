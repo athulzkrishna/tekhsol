{
 "cells": [
  {
   "cell_type": "markdown",
   "metadata": {},
   "source": [
    "# Peak Production:\n",
    "\n",
    "*These graphs are for peak production*\n",
    "    "
   ]
  },
  {
   "cell_type": "code",
   "execution_count": 1,
   "metadata": {},
   "outputs": [],
   "source": [
    "#importing required packages and modules\n",
    "import openpyxl \n",
    "from datetime import datetime"
   ]
  },
  {
   "cell_type": "markdown",
   "metadata": {},
   "source": []
  },
  {
   "cell_type": "code",
   "execution_count": 2,
   "metadata": {},
   "outputs": [],
   "source": [
    "import glob, os\n",
    "os.chdir(\"C:\\\\Users\\\\Athul krishna\\\\myexcels\\\\production\\\\\")\n",
    "#for file in glob.glob(\"*.xlsx\"):\n",
    "   # print(file)"
   ]
  },
  {
   "cell_type": "code",
   "execution_count": 3,
   "metadata": {},
   "outputs": [],
   "source": [
    "def check(d):\n",
    "    if type(d) is datetime:\n",
    "        month = d.strftime(\"%m\")\n",
    "        year=d.strftime(\"%Y\")\n",
    "        return month\n",
    "    else:\n",
    "        return d[5:7]\n"
   ]
  },
  {
   "cell_type": "code",
   "execution_count": 4,
   "metadata": {},
   "outputs": [],
   "source": [
    "def extract(file,c1,c2,c3,c4,c5,w):\n",
    "    wb_obj = openpyxl.load_workbook(file) \n",
    "    sheet_obj = wb_obj.active\n",
    "    l=[]\n",
    "    co=0\n",
    "    ca=0\n",
    "    cb=0\n",
    "    cc=0\n",
    "    for i in range(2,sheet_obj.max_row+1):\n",
    "        w[check(sheet_obj.cell(row = i, column = 9).value)][0]+=float(sheet_obj.cell(row = i, column = c1).value)\n",
    "        w[check(sheet_obj.cell(row = i, column = 9).value)][1]+=float(sheet_obj.cell(row = i, column = c2).value)\n",
    "        w[check(sheet_obj.cell(row = i, column = 9).value)][2]+=float(sheet_obj.cell(row = i, column = c3).value)\n",
    "        w[check(sheet_obj.cell(row = i, column = 9).value)][3]+=float(sheet_obj.cell(row = i, column = c4).value)\n",
    "        w[check(sheet_obj.cell(row = i, column = 9).value)][4]+=float(sheet_obj.cell(row = i, column = c5).value)\n",
    "        \n",
    "        #l.append(sheet_obj.cell(row = i, column = c).value)\n",
    "    #print(l,co)\n",
    "    #return [co,ca,cb,cc]\n",
    "#extract(\"C:\\\\Users\\\\Athul krishna\\\\myexcels\\\\product11.xml.xlsx\",12,13,43,44)"
   ]
  },
  {
   "cell_type": "code",
   "execution_count": 5,
   "metadata": {},
   "outputs": [],
   "source": [
    "from collections import defaultdict\n",
    "w=defaultdict(lambda:[0,0,0,0,0])\n",
    "for file in glob.glob(\"*.xlsx\"):\n",
    "    extract(file,12,13,43,44,11,w)\n",
    "#print(w) \n"
   ]
  },
  {
   "cell_type": "code",
   "execution_count": 6,
   "metadata": {},
   "outputs": [
    {
     "data": {
      "text/html": [
       "<div>\n",
       "<style scoped>\n",
       "    .dataframe tbody tr th:only-of-type {\n",
       "        vertical-align: middle;\n",
       "    }\n",
       "\n",
       "    .dataframe tbody tr th {\n",
       "        vertical-align: top;\n",
       "    }\n",
       "\n",
       "    .dataframe thead th {\n",
       "        text-align: right;\n",
       "    }\n",
       "</style>\n",
       "<table border=\"1\" class=\"dataframe\">\n",
       "  <thead>\n",
       "    <tr style=\"text-align: right;\">\n",
       "      <th></th>\n",
       "      <th>06</th>\n",
       "      <th>07</th>\n",
       "      <th>08</th>\n",
       "      <th>09</th>\n",
       "      <th>10</th>\n",
       "      <th>11</th>\n",
       "      <th>12</th>\n",
       "    </tr>\n",
       "  </thead>\n",
       "  <tbody>\n",
       "    <tr>\n",
       "      <th>0</th>\n",
       "      <td>2.805441e+08</td>\n",
       "      <td>1.311235e+08</td>\n",
       "      <td>1.181572e+08</td>\n",
       "      <td>1.497191e+08</td>\n",
       "      <td>1.787352e+08</td>\n",
       "      <td>1.901847e+08</td>\n",
       "      <td>1.827120e+08</td>\n",
       "    </tr>\n",
       "    <tr>\n",
       "      <th>1</th>\n",
       "      <td>1.468601e+06</td>\n",
       "      <td>6.224500e+05</td>\n",
       "      <td>5.857780e+05</td>\n",
       "      <td>7.261650e+05</td>\n",
       "      <td>8.295690e+05</td>\n",
       "      <td>9.481070e+05</td>\n",
       "      <td>9.287480e+05</td>\n",
       "    </tr>\n",
       "    <tr>\n",
       "      <th>2</th>\n",
       "      <td>8.143272e+05</td>\n",
       "      <td>4.194809e+05</td>\n",
       "      <td>3.540465e+05</td>\n",
       "      <td>4.234245e+05</td>\n",
       "      <td>4.628597e+05</td>\n",
       "      <td>5.027106e+05</td>\n",
       "      <td>4.823735e+05</td>\n",
       "    </tr>\n",
       "    <tr>\n",
       "      <th>3</th>\n",
       "      <td>3.294012e+09</td>\n",
       "      <td>3.912523e+09</td>\n",
       "      <td>1.275172e+10</td>\n",
       "      <td>2.329446e+10</td>\n",
       "      <td>3.389852e+10</td>\n",
       "      <td>4.736992e+10</td>\n",
       "      <td>5.887417e+10</td>\n",
       "    </tr>\n",
       "    <tr>\n",
       "      <th>4</th>\n",
       "      <td>3.236440e+07</td>\n",
       "      <td>1.518228e+07</td>\n",
       "      <td>1.227814e+07</td>\n",
       "      <td>1.608353e+07</td>\n",
       "      <td>1.816931e+07</td>\n",
       "      <td>1.944375e+07</td>\n",
       "      <td>1.956001e+07</td>\n",
       "    </tr>\n",
       "  </tbody>\n",
       "</table>\n",
       "</div>"
      ],
      "text/plain": [
       "             06            07            08            09            10  \\\n",
       "0  2.805441e+08  1.311235e+08  1.181572e+08  1.497191e+08  1.787352e+08   \n",
       "1  1.468601e+06  6.224500e+05  5.857780e+05  7.261650e+05  8.295690e+05   \n",
       "2  8.143272e+05  4.194809e+05  3.540465e+05  4.234245e+05  4.628597e+05   \n",
       "3  3.294012e+09  3.912523e+09  1.275172e+10  2.329446e+10  3.389852e+10   \n",
       "4  3.236440e+07  1.518228e+07  1.227814e+07  1.608353e+07  1.816931e+07   \n",
       "\n",
       "             11            12  \n",
       "0  1.901847e+08  1.827120e+08  \n",
       "1  9.481070e+05  9.287480e+05  \n",
       "2  5.027106e+05  4.823735e+05  \n",
       "3  4.736992e+10  5.887417e+10  \n",
       "4  1.944375e+07  1.956001e+07  "
      ]
     },
     "execution_count": 6,
     "metadata": {},
     "output_type": "execute_result"
    }
   ],
   "source": [
    "#s={'06': [280544076.0, 1468601.0, 814327.1855246435, 3294011743.0, 32364396.0], '07': [131123517.0, 622450.0, 419480.9099175076, 3912522801.0, 15182275.0], '08': [118157196.0, 585778.0, 354046.4782785739, 12751716063.0, 12278138.0], '09': [149719085.0, 726165.0, 423424.48076664336, 23294464177.0, 16083533.0], '10': [178735153.0, 829569.0, 462859.7359594792, 33898523634.0, 18169311.0], '11': [190184698.0, 948107.0, 502710.609236879, 47369916087.0, 19443750.0], '12': [182712043.0, 928748.0, 482373.53939543525, 58874168835.0, 19560011.0]}\n",
    "import pandas as pd\n",
    "new = pd.DataFrame(w)  \n",
    "new"
   ]
  },
  {
   "cell_type": "code",
   "execution_count": 7,
   "metadata": {},
   "outputs": [],
   "source": [
    "l=list(w.keys())"
   ]
  },
  {
   "cell_type": "code",
   "execution_count": 8,
   "metadata": {},
   "outputs": [
    {
     "name": "stdout",
     "output_type": "stream",
     "text": [
      "['06', '07', '08', '09', '10', '11', '12']\n"
     ]
    }
   ],
   "source": [
    "labels=l\n",
    "print(labels)"
   ]
  },
  {
   "cell_type": "code",
   "execution_count": 9,
   "metadata": {},
   "outputs": [
    {
     "name": "stdout",
     "output_type": "stream",
     "text": [
      "[32364396.0, 15182275.0, 12278138.0, 16083533.0, 18169311.0, 19443750.0, 19560011.0]\n"
     ]
    }
   ],
   "source": [
    "first=[]\n",
    "second=[]\n",
    "ins=[]\n",
    "roll=[]\n",
    "rt=[]\n",
    "for i in labels:\n",
    "    first.append(w[i][0])\n",
    "    second.append(w[i][1])\n",
    "    ins.append(w[i][2])\n",
    "    roll.append(w[i][3])\n",
    "    rt.append(w[i][4])\n",
    "#print(first,second) \n",
    "#print(roll)\n",
    "print(rt)"
   ]
  },
  {
   "cell_type": "code",
   "execution_count": 10,
   "metadata": {},
   "outputs": [
    {
     "data": {
      "image/png": "[encoded data removed]",
      "text/plain": [
       "<Figure size 720x360 with 1 Axes>"
      ]
     },
     "metadata": {
      "needs_background": "light"
     },
     "output_type": "display_data"
    }
   ],
   "source": [
    "import numpy as np \n",
    "import matplotlib.pyplot as plt  \n",
    "  \n",
    "   \n",
    "fig = plt.figure(figsize = (10, 5)) \n",
    "  \n",
    "# creating the bar plot \n",
    "plt.bar(labels,first , color ='red',  \n",
    "        width = 0.4) \n",
    "  \n",
    "plt.xlabel(\"Months\") \n",
    "plt.ylabel(\"No. of Revolutions\") \n",
    "plt.title(\"First Revolution Analysis\") \n",
    "plt.show() "
   ]
  },
  {
   "cell_type": "code",
   "execution_count": 11,
   "metadata": {},
   "outputs": [
    {
     "data": {
      "image/png": "[encoded data removed]",
      "text/plain": [
       "<Figure size 720x360 with 1 Axes>"
      ]
     },
     "metadata": {
      "needs_background": "light"
     },
     "output_type": "display_data"
    }
   ],
   "source": [
    "import numpy as np \n",
    "import matplotlib.pyplot as plt  \n",
    "  \n",
    "   \n",
    "fig = plt.figure(figsize = (10, 5)) \n",
    "  \n",
    "# creating the bar plot \n",
    "plt.bar(labels,second , color ='black',  \n",
    "        width = 0.4) \n",
    "  \n",
    "plt.xlabel(\"Months\") \n",
    "plt.ylabel(\"No. of Revolutions\") \n",
    "plt.title(\"Second Revolution Analysis\") \n",
    "plt.show() "
   ]
  },
  {
   "cell_type": "code",
   "execution_count": 12,
   "metadata": {},
   "outputs": [
    {
     "name": "stderr",
     "output_type": "stream",
     "text": [
      "<ipython-input-12-94c230126640>:47: MatplotlibDeprecationWarning: \n",
      "The set_smart_bounds function was deprecated in Matplotlib 3.2 and will be removed two minor releases later.\n",
      "  ax.spines['left'].set_smart_bounds(True)\n",
      "<ipython-input-12-94c230126640>:48: MatplotlibDeprecationWarning: \n",
      "The set_smart_bounds function was deprecated in Matplotlib 3.2 and will be removed two minor releases later.\n",
      "  ax.spines['bottom'].set_smart_bounds(True)\n",
      "findfont: Font family ['sans-serif'] not found. Falling back to DejaVu Sans.\n",
      "findfont: Font family ['sans-serif'] not found. Falling back to DejaVu Sans.\n"
     ]
    },
    {
     "data": {
      "image/png": "[encoded data removed]",
      "text/plain": [
       "<Figure size 360x252 with 1 Axes>"
      ]
     },
     "metadata": {
      "needs_background": "light"
     },
     "output_type": "display_data"
    }
   ],
   "source": [
    "import pandas as pd\n",
    "import matplotlib.pyplot as plt\n",
    "import numpy as np\n",
    "%matplotlib inline\n",
    "\n",
    "# set font\n",
    "plt.rcParams['font.family'] = 'sans-serif'\n",
    "plt.rcParams['font.sans-serif'] = 'Helvetica'\n",
    "\n",
    "# set the style of the axes and the text color\n",
    "plt.rcParams['axes.edgecolor']='#333F4B'\n",
    "plt.rcParams['axes.linewidth']=0.8\n",
    "plt.rcParams['xtick.color']='#333F4B'\n",
    "plt.rcParams['ytick.color']='#333F4B'\n",
    "plt.rcParams['text.color']='#333F4B'\n",
    "\n",
    "\n",
    "percentages = pd.Series(ins, \n",
    "                        index=labels)\n",
    "df = pd.DataFrame({'percentage' : percentages})\n",
    "df = df.sort_values(by='percentage')\n",
    "\n",
    "\n",
    "my_range=list(range(1,len(df.index)+1))\n",
    "\n",
    "fig, ax = plt.subplots(figsize=(5,3.5))\n",
    "\n",
    "\n",
    "plt.hlines(y=my_range, xmin=0, xmax=df['percentage'], color='#FF0000', alpha=0.5, linewidth=5)\n",
    "\n",
    "plt.plot(df['percentage'], my_range, \"o\", markersize=5, color='#FF0000', alpha=0.9)\n",
    "\n",
    "# set labels\n",
    "ax.set_xlabel('Percentage', fontsize=15, fontweight='black', color = '#333F4B')\n",
    "ax.set_ylabel('')\n",
    "\n",
    "# set axis\n",
    "ax.tick_params(axis='both', which='major', labelsize=12)\n",
    "plt.yticks(my_range, df.index)\n",
    "\n",
    "# add an horizonal label for the y axis \n",
    "fig.text(-0.23, 0.96, 'INS-rpm', fontsize=15, fontweight='black', color = '#333F4B')\n",
    "\n",
    "# change the style of the axis spines\n",
    "ax.spines['top'].set_color('none')\n",
    "ax.spines['right'].set_color('none')\n",
    "ax.spines['left'].set_smart_bounds(True)\n",
    "ax.spines['bottom'].set_smart_bounds(True)\n",
    "\n",
    "# set the spines position\n",
    "ax.spines['bottom'].set_position(('axes', -0.04))\n",
    "ax.spines['left'].set_position(('axes', 0.015))\n",
    "\n",
    "plt.savefig('hist2.png', dpi=300, bbox_inches='tight')"
   ]
  },
  {
   "cell_type": "code",
   "execution_count": 13,
   "metadata": {},
   "outputs": [
    {
     "name": "stderr",
     "output_type": "stream",
     "text": [
      "<ipython-input-13-06859cd4ed30>:44: MatplotlibDeprecationWarning: \n",
      "The set_smart_bounds function was deprecated in Matplotlib 3.2 and will be removed two minor releases later.\n",
      "  ax.spines['left'].set_smart_bounds(True)\n",
      "<ipython-input-13-06859cd4ed30>:45: MatplotlibDeprecationWarning: \n",
      "The set_smart_bounds function was deprecated in Matplotlib 3.2 and will be removed two minor releases later.\n",
      "  ax.spines['bottom'].set_smart_bounds(True)\n",
      "findfont: Font family ['sans-serif'] not found. Falling back to DejaVu Sans.\n"
     ]
    },
    {
     "data": {
      "image/png": "[encoded data removed]",
      "text/plain": [
       "<Figure size 360x252 with 1 Axes>"
      ]
     },
     "metadata": {
      "needs_background": "light"
     },
     "output_type": "display_data"
    }
   ],
   "source": [
    "import pandas as pd\n",
    "import matplotlib.pyplot as plt\n",
    "import numpy as np\n",
    "%matplotlib inline\n",
    "\n",
    "\n",
    "plt.rcParams['font.family'] = 'sans-serif'\n",
    "plt.rcParams['font.sans-serif'] = 'Helvetica'\n",
    "\n",
    "\n",
    "plt.rcParams['axes.edgecolor']='#333F4B'\n",
    "plt.rcParams['axes.linewidth']=0.8\n",
    "plt.rcParams['xtick.color']='#333F4B'\n",
    "plt.rcParams['ytick.color']='#333F4B'\n",
    "plt.rcParams['text.color']='#333F4B'\n",
    "\n",
    "\n",
    "percentages = pd.Series(roll, \n",
    "                        index=labels)\n",
    "df = pd.DataFrame({'percentage' : percentages})\n",
    "df = df.sort_values(by='percentage')\n",
    "\n",
    "\n",
    "my_range=list(range(1,len(df.index)+1))\n",
    "\n",
    "fig, ax = plt.subplots(figsize=(5,3.5))\n",
    "\n",
    "\n",
    "plt.hlines(y=my_range, xmin=0, xmax=df['percentage'], color='#007ACC', alpha=0.5, linewidth=5)\n",
    "\n",
    "plt.plot(df['percentage'], my_range, \"o\", markersize=5, color='#007ACC', alpha=0.9)\n",
    "\n",
    "\n",
    "ax.set_xlabel('Percentage', fontsize=15, fontweight='black', color = '#333F4B')\n",
    "ax.set_ylabel('')\n",
    "ax.tick_params(axis='both', which='major', labelsize=12)\n",
    "plt.yticks(my_range, df.index)\n",
    "\n",
    "fig.text(-0.23, 0.96, 'Roll-Doff-Revolution', fontsize=15, fontweight='black', color = '#333F4B')\n",
    "\n",
    "# change the style of the axis spines\n",
    "ax.spines['top'].set_color('none')\n",
    "ax.spines['right'].set_color('none')\n",
    "ax.spines['left'].set_smart_bounds(True)\n",
    "ax.spines['bottom'].set_smart_bounds(True)\n",
    "\n",
    "# set the spines position\n",
    "ax.spines['bottom'].set_position(('axes', -0.04))\n",
    "ax.spines['left'].set_position(('axes', 0.015))\n",
    "\n",
    "plt.savefig('hist2.png', dpi=300, bbox_inches='tight')\n"
   ]
  },
  {
   "cell_type": "code",
   "execution_count": 14,
   "metadata": {},
   "outputs": [
    {
     "name": "stdout",
     "output_type": "stream",
     "text": [
      "[8.713670324636986, 8.677616957932853, 9.671089704318359, 9.353992683075292, 9.882858078658018, 9.83003818707811, 9.388583217054428]\n"
     ]
    }
   ],
   "source": [
    "for i in range(len(first)):\n",
    "    first[i]+=second[i]\n",
    "    first[i]/=rt[i]\n",
    "print(first)   "
   ]
  },
  {
   "cell_type": "code",
   "execution_count": 15,
   "metadata": {},
   "outputs": [
    {
     "name": "stderr",
     "output_type": "stream",
     "text": [
      "findfont: Font family ['sans-serif'] not found. Falling back to DejaVu Sans.\n"
     ]
    },
    {
     "data": {
      "image/png": "[encoded data removed]",
      "text/plain": [
       "<Figure size 720x504 with 1 Axes>"
      ]
     },
     "metadata": {},
     "output_type": "display_data"
    }
   ],
   "source": [
    "import numpy as np \n",
    "import matplotlib.pyplot as plt \n",
    "  \n",
    "  \n",
    "\n",
    "  \n",
    "  \n",
    "\n",
    "explode = (0.1, 0.0, 0.2, 0.3, 0.15, 0.35,0.25) \n",
    "  \n",
    " \n",
    "colors = ( \"orange\", \"cyan\", \"brown\", \n",
    "          \"grey\", \"indigo\", \"beige\",\"yellow\") \n",
    "  \n",
    " \n",
    "wp = { 'linewidth' : 1, 'edgecolor' : \"green\" } \n",
    "  \n",
    "\n",
    "def func(pct, allvalues): \n",
    "    absolute = int(pct / 100.*np.sum(allvalues)) \n",
    "    return \"{:.1f}%\\n({:d} rev.\".format(pct, absolute) \n",
    "  \n",
    "\n",
    "fig, ax = plt.subplots(figsize =(10, 7)) \n",
    "wedges, texts, autotexts = ax.pie(first,  \n",
    "                                  autopct = lambda pct: func(pct, first), \n",
    "                                  explode = explode,  \n",
    "                                  labels = l, \n",
    "                                  shadow = True, \n",
    "                                  colors = colors, \n",
    "                                  startangle = 90, \n",
    "                                  wedgeprops = wp, \n",
    "                                  textprops = dict(color =\"black\")) \n",
    "  \n",
    "\n",
    "ax.legend(wedges, l, \n",
    "          title =\"Prodution\", \n",
    "          loc =\"center right\", \n",
    "          bbox_to_anchor =(1, 0, 0.5, 1)) \n",
    "  \n",
    "plt.setp(autotexts, size = 8, weight =\"bold\") \n",
    "ax.set_title(\"Best Production Month\") \n",
    "  \n",
    "# show plot \n",
    "plt.show()"
   ]
  },
  {
   "cell_type": "code",
   "execution_count": null,
   "metadata": {},
   "outputs": [],
   "source": [
    "\n"
   ]
  },
  {
   "cell_type": "code",
   "execution_count": null,
   "metadata": {},
   "outputs": [],
   "source": [
    " "
   ]
  },
  {
   "cell_type": "code",
   "execution_count": 16,
   "metadata": {},
   "outputs": [
    {
     "data": {
      "image/png": "[encoded data removed]",
      "text/plain": [
       "<Figure size 432x288 with 1 Axes>"
      ]
     },
     "metadata": {
      "needs_background": "light"
     },
     "output_type": "display_data"
    }
   ],
   "source": [
    "import matplotlib.pyplot as plt \n",
    "  \n",
    " \n",
    "x = [6,7,8,9,10,11,12] \n",
    " \n",
    "y = first \n",
    "  \n",
    "  \n",
    "plt.plot(x, y) \n",
    "  \n",
    " \n",
    "plt.xlabel('Months') \n",
    "\n",
    "plt.ylabel('Revolutions per Second') \n",
    "  \n",
    " \n",
    "plt.title('Best Month Graph') \n",
    "  \n",
    " \n",
    "plt.show() "
   ]
  },
  {
   "cell_type": "markdown",
   "metadata": {},
   "source": [
    "# Efficient Month:\n",
    "The efficiency of **production** is calculated on the basis of **number of working hours** and the total time based on each month's *number of working days.*\n",
    "\n",
    "The calculations are based on:\n",
    "consider 5 person working for 8hrs on a **single day** for a company = 5*8=40 hours of total worktime within 24 hrs for the company.\n"
   ]
  },
  {
   "cell_type": "code",
   "execution_count": 17,
   "metadata": {},
   "outputs": [],
   "source": [
    "from datetime import datetime\n",
    "import openpyxl\n",
    "import glob, os\n",
    "os.chdir(\"C:\\\\Users\\\\Athul krishna\\\\myexcels\\\\production\\\\\")\n",
    "import pandas as pd\n",
    "import numpy as np\n",
    "import matplotlib.pyplot as plt\n",
    "from matplotlib.ticker import StrMethodFormatter\n",
    "def chec(d):\n",
    "    if type(d) is datetime:\n",
    "        month = d.strftime(\"%m\")\n",
    "        year=d.strftime(\"%Y\")\n",
    "        day=d.strftime(\"%d\")\n",
    "        return day+month+year\n",
    "    else:\n",
    "        return d[8:10]+d[5:7]+d[:4]"
   ]
  },
  {
   "cell_type": "code",
   "execution_count": 18,
   "metadata": {},
   "outputs": [],
   "source": [
    "def check(d):\n",
    "    if type(d) is datetime:\n",
    "        month = d.strftime(\"%m\")\n",
    "        year=d.strftime(\"%Y\")\n",
    "        return month\n",
    "    else:\n",
    "        return d[5:7]"
   ]
  },
  {
   "cell_type": "code",
   "execution_count": 19,
   "metadata": {},
   "outputs": [
    {
     "name": "stdout",
     "output_type": "stream",
     "text": [
      "('06', {'23062020', '27062020', '20062020', '28062020', '22062020', '30062020', '29062020', '24062020', '21062020', '26062020', '25062020'})\n",
      "('07', {'04072020', '01072020', '03072020', '02072020', '06072020', '05072020'})\n",
      "('08', {'27082020', '04082020', '06082020', '29082020', '03082020', '05082020', '25082020', '01082020', '02082020'})\n",
      "('09', {'02092020', '04092020', '01092020', '05092020', '11092020', '26092020', '03092020'})\n",
      "('10', {'04102020', '02102020', '05102020', '01102020', '03102020', '31102020'})\n",
      "('11', {'04112020', '30112020', '01112020', '03112020', '05112020', '02112020'})\n",
      "('12', {'04122020', '02122020', '05122020', '03122020', '01122020'})\n"
     ]
    }
   ],
   "source": [
    "from collections import defaultdict\n",
    "f=defaultdict(set)\n",
    "def uniqdays(file,d):\n",
    "    \n",
    "    wb_obj = openpyxl.load_workbook(file) \n",
    "    sheet_obj = wb_obj.active\n",
    "    c1=9\n",
    "    #l=[]\n",
    "\n",
    "    for i in range(2,sheet_obj.max_row+1):\n",
    "\n",
    "\n",
    "        #month = now.strftime(\"%m\")\n",
    "\n",
    "        d[check(sheet_obj.cell(row = i, column = c1).value)].add(chec(sheet_obj.cell(row = i, column = c1).value))\n",
    "        #l.append(check(sheet_obj.cell(row = i, column = c1).value))\n",
    "    \n",
    "#print(l) \n",
    "for file in glob.glob(\"*.xlsx\"):\n",
    "    uniqdays(file,f)\n",
    "#print(d)   \n",
    "for i in f.items():\n",
    "    print(i)"
   ]
  },
  {
   "cell_type": "code",
   "execution_count": 20,
   "metadata": {},
   "outputs": [
    {
     "name": "stdout",
     "output_type": "stream",
     "text": [
      "defaultdict(<class 'list'>, {'06': [32364396.0, 950400], '07': [15182275.0, 518400], '08': [12278138.0, 777600], '09': [16083533.0, 604800], '10': [18169311.0, 518400], '11': [19443750.0, 518400], '12': [19560011.0, 432000]})\n"
     ]
    }
   ],
   "source": [
    "rtandtt=defaultdict(list)\n",
    "for i in labels:\n",
    "    rtandtt[i].append(w[i][4])\n",
    "    rtandtt[i].append(len(f[i])*24*60*60)\n",
    "print(rtandtt)    "
   ]
  },
  {
   "cell_type": "code",
   "execution_count": 22,
   "metadata": {},
   "outputs": [
    {
     "name": "stdout",
     "output_type": "stream",
     "text": [
      "06 34.05344696969697\n",
      "07 29.286795910493826\n",
      "08 15.789786522633745\n",
      "09 26.593143187830687\n",
      "10 35.04882523148148\n",
      "11 37.5072337962963\n",
      "12 45.27780324074074\n"
     ]
    }
   ],
   "source": [
    "s=[]\n",
    "v=[]\n",
    "keys=[]\n",
    "for i in rtandtt.keys():\n",
    "    print(i,(rtandtt[i][0]/rtandtt[i][1]))\n",
    "    keys.append(i)\n",
    "    v.append(i)\n",
    "    s.append((rtandtt[i][0]/rtandtt[i][1]))"
   ]
  },
  {
   "cell_type": "code",
   "execution_count": 23,
   "metadata": {},
   "outputs": [
    {
     "data": {
      "image/png": "[encoded data removed]",
      "text/plain": [
       "<Figure size 720x360 with 1 Axes>"
      ]
     },
     "metadata": {
      "needs_background": "light"
     },
     "output_type": "display_data"
    }
   ],
   "source": [
    "import numpy as np \n",
    "import matplotlib.pyplot as plt  \n",
    "  \n",
    "   \n",
    "fig = plt.figure(figsize = (10, 5)) \n",
    "  \n",
    "# creating the bar plot \n",
    "plt.bar(labels,s , color ='black',  \n",
    "        width = 0.4) \n",
    "  \n",
    "plt.xlabel(\"Months\") \n",
    "plt.ylabel(\"Efficient Running Time\") \n",
    "plt.title(\"EFFICIENT MONTH\") \n",
    "plt.show() "
   ]
  },
  {
   "cell_type": "code",
   "execution_count": null,
   "metadata": {},
   "outputs": [],
   "source": []
  },
  {
   "cell_type": "code",
   "execution_count": null,
   "metadata": {},
   "outputs": [],
   "source": []
  },
  {
   "cell_type": "code",
   "execution_count": null,
   "metadata": {},
   "outputs": [],
   "source": []
  }
 ],
 "metadata": {
  "hide_input": false,
  "kernelspec": {
   "display_name": "Python 3",
   "language": "python",
   "name": "python3"
  },
  "language_info": {
   "codemirror_mode": {
    "name": "ipython",
    "version": 3
   },
   "file_extension": ".py",
   "mimetype": "text/x-python",
   "name": "python",
   "nbconvert_exporter": "python",
   "pygments_lexer": "ipython3",
   "version": "3.8.5"
  }
 },
 "nbformat": 4,
 "nbformat_minor": 4
}
