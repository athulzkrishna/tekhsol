{
 "cells": [
  {
   "cell_type": "markdown",
   "metadata": {},
   "source": [
    "# Production Vs Stoppage:(linear regression)\n"
   ]
  },
  {
   "cell_type": "markdown",
   "metadata": {},
   "source": [
    "**SUPERVISED LEARNING:**:"
   ]
  },
  {
   "cell_type": "code",
   "execution_count": 1,
   "metadata": {},
   "outputs": [],
   "source": [
    "import pandas as pd\n",
    "import pickle\n",
    "import os\n",
    "import xlrd\n",
    "import openpyxl \n",
    "import numpy as np\n",
    "from matplotlib import pyplot as plt\n",
    "%matplotlib inline\n",
    "import matplotlib\n",
    "matplotlib.rcParams[\"figure.figsize\"]=(20,10)\n",
    "from sklearn import linear_model\n"
   ]
  },
  {
   "cell_type": "code",
   "execution_count": 2,
   "metadata": {},
   "outputs": [
    {
     "data": {
      "text/html": [
       "<div>\n",
       "<style scoped>\n",
       "    .dataframe tbody tr th:only-of-type {\n",
       "        vertical-align: middle;\n",
       "    }\n",
       "\n",
       "    .dataframe tbody tr th {\n",
       "        vertical-align: top;\n",
       "    }\n",
       "\n",
       "    .dataframe thead th {\n",
       "        text-align: right;\n",
       "    }\n",
       "</style>\n",
       "<table border=\"1\" class=\"dataframe\">\n",
       "  <thead>\n",
       "    <tr style=\"text-align: right;\">\n",
       "      <th></th>\n",
       "      <th>production_id</th>\n",
       "      <th>company_id</th>\n",
       "      <th>branch_id</th>\n",
       "      <th>department_id</th>\n",
       "      <th>shed_id</th>\n",
       "      <th>machinetype_id</th>\n",
       "      <th>machine_id</th>\n",
       "      <th>design_id</th>\n",
       "      <th>date_time</th>\n",
       "      <th>machine_status</th>\n",
       "      <th>...</th>\n",
       "      <th>powerfactor</th>\n",
       "      <th>kwh</th>\n",
       "      <th>frequency</th>\n",
       "      <th>no_communication</th>\n",
       "      <th>communication_id</th>\n",
       "      <th>created_on</th>\n",
       "      <th>created_by</th>\n",
       "      <th>modified_on</th>\n",
       "      <th>modified_by</th>\n",
       "      <th>phase_no</th>\n",
       "    </tr>\n",
       "  </thead>\n",
       "  <tbody>\n",
       "    <tr>\n",
       "      <th>0</th>\n",
       "      <td>3625</td>\n",
       "      <td>1</td>\n",
       "      <td>1</td>\n",
       "      <td>1</td>\n",
       "      <td>3</td>\n",
       "      <td>8</td>\n",
       "      <td>103</td>\n",
       "      <td>1</td>\n",
       "      <td>2020-12-01 20:04:35</td>\n",
       "      <td>0</td>\n",
       "      <td>...</td>\n",
       "      <td>0</td>\n",
       "      <td>0</td>\n",
       "      <td>0</td>\n",
       "      <td>0</td>\n",
       "      <td>0</td>\n",
       "      <td>2020-10-29 18:54:45</td>\n",
       "      <td>8</td>\n",
       "      <td>NaN</td>\n",
       "      <td>8</td>\n",
       "      <td>1</td>\n",
       "    </tr>\n",
       "    <tr>\n",
       "      <th>1</th>\n",
       "      <td>3993</td>\n",
       "      <td>1</td>\n",
       "      <td>1</td>\n",
       "      <td>1</td>\n",
       "      <td>3</td>\n",
       "      <td>8</td>\n",
       "      <td>102</td>\n",
       "      <td>1</td>\n",
       "      <td>2020-12-01 20:04:31</td>\n",
       "      <td>0</td>\n",
       "      <td>...</td>\n",
       "      <td>0</td>\n",
       "      <td>0</td>\n",
       "      <td>0</td>\n",
       "      <td>0</td>\n",
       "      <td>0</td>\n",
       "      <td>2020-11-10 13:34:23</td>\n",
       "      <td>8</td>\n",
       "      <td>NaN</td>\n",
       "      <td>8</td>\n",
       "      <td>1</td>\n",
       "    </tr>\n",
       "    <tr>\n",
       "      <th>2</th>\n",
       "      <td>4000</td>\n",
       "      <td>1</td>\n",
       "      <td>1</td>\n",
       "      <td>1</td>\n",
       "      <td>3</td>\n",
       "      <td>8</td>\n",
       "      <td>88</td>\n",
       "      <td>1</td>\n",
       "      <td>2020-12-01 20:03:29</td>\n",
       "      <td>0</td>\n",
       "      <td>...</td>\n",
       "      <td>0</td>\n",
       "      <td>0</td>\n",
       "      <td>0</td>\n",
       "      <td>0</td>\n",
       "      <td>0</td>\n",
       "      <td>2020-11-10 16:33:04</td>\n",
       "      <td>7</td>\n",
       "      <td>NaN</td>\n",
       "      <td>7</td>\n",
       "      <td>1</td>\n",
       "    </tr>\n",
       "    <tr>\n",
       "      <th>3</th>\n",
       "      <td>4181</td>\n",
       "      <td>1</td>\n",
       "      <td>1</td>\n",
       "      <td>1</td>\n",
       "      <td>3</td>\n",
       "      <td>8</td>\n",
       "      <td>85</td>\n",
       "      <td>1</td>\n",
       "      <td>2020-12-01 20:03:20</td>\n",
       "      <td>0</td>\n",
       "      <td>...</td>\n",
       "      <td>0</td>\n",
       "      <td>0</td>\n",
       "      <td>0</td>\n",
       "      <td>0</td>\n",
       "      <td>0</td>\n",
       "      <td>2020-11-18 14:19:20</td>\n",
       "      <td>8</td>\n",
       "      <td>NaN</td>\n",
       "      <td>8</td>\n",
       "      <td>1</td>\n",
       "    </tr>\n",
       "    <tr>\n",
       "      <th>4</th>\n",
       "      <td>4216</td>\n",
       "      <td>1</td>\n",
       "      <td>1</td>\n",
       "      <td>1</td>\n",
       "      <td>3</td>\n",
       "      <td>8</td>\n",
       "      <td>107</td>\n",
       "      <td>1</td>\n",
       "      <td>2020-12-01 20:05:02</td>\n",
       "      <td>0</td>\n",
       "      <td>...</td>\n",
       "      <td>0</td>\n",
       "      <td>0</td>\n",
       "      <td>0</td>\n",
       "      <td>0</td>\n",
       "      <td>0</td>\n",
       "      <td>2020-11-19 13:50:08</td>\n",
       "      <td>8</td>\n",
       "      <td>NaN</td>\n",
       "      <td>8</td>\n",
       "      <td>1</td>\n",
       "    </tr>\n",
       "  </tbody>\n",
       "</table>\n",
       "<p>5 rows × 78 columns</p>\n",
       "</div>"
      ],
      "text/plain": [
       "   production_id  company_id  branch_id  department_id  shed_id  \\\n",
       "0           3625           1          1              1        3   \n",
       "1           3993           1          1              1        3   \n",
       "2           4000           1          1              1        3   \n",
       "3           4181           1          1              1        3   \n",
       "4           4216           1          1              1        3   \n",
       "\n",
       "   machinetype_id  machine_id  design_id            date_time  machine_status  \\\n",
       "0               8         103          1  2020-12-01 20:04:35               0   \n",
       "1               8         102          1  2020-12-01 20:04:31               0   \n",
       "2               8          88          1  2020-12-01 20:03:29               0   \n",
       "3               8          85          1  2020-12-01 20:03:20               0   \n",
       "4               8         107          1  2020-12-01 20:05:02               0   \n",
       "\n",
       "   ...  powerfactor  kwh  frequency  no_communication  communication_id  \\\n",
       "0  ...            0    0          0                 0                 0   \n",
       "1  ...            0    0          0                 0                 0   \n",
       "2  ...            0    0          0                 0                 0   \n",
       "3  ...            0    0          0                 0                 0   \n",
       "4  ...            0    0          0                 0                 0   \n",
       "\n",
       "            created_on  created_by  modified_on  modified_by  phase_no  \n",
       "0  2020-10-29 18:54:45           8          NaN            8         1  \n",
       "1  2020-11-10 13:34:23           8          NaN            8         1  \n",
       "2  2020-11-10 16:33:04           7          NaN            7         1  \n",
       "3  2020-11-18 14:19:20           8          NaN            8         1  \n",
       "4  2020-11-19 13:50:08           8          NaN            8         1  \n",
       "\n",
       "[5 rows x 78 columns]"
      ]
     },
     "execution_count": 2,
     "metadata": {},
     "output_type": "execute_result"
    }
   ],
   "source": [
    "df12=pd.read_excel(\n",
    "     os.path.join(\"C:\\\\Users\\\\Athul krishna\\\\myexcels\\\\\",\"production\\\\\", 'product12.xml.xlsx'),\n",
    "     engine='openpyxl',\n",
    ")\n",
    "df13=pd.read_excel(\n",
    "     os.path.join(\"C:\\\\Users\\\\Athul krishna\\\\myexcels\\\\\",\"production\\\\\", 'product11.xml.xlsx'),\n",
    "     engine='openpyxl',\n",
    ")\n",
    "df14=pd.read_excel(\n",
    "     os.path.join(\"C:\\\\Users\\\\Athul krishna\\\\myexcels\\\\\",\"production\\\\\", 'product10.xml.xlsx'),\n",
    "     engine='openpyxl',\n",
    ")\n",
    "df15=pd.read_excel(\n",
    "     os.path.join(\"C:\\\\Users\\\\Athul krishna\\\\myexcels\\\\\",\"production\\\\\", 'product09.xml.xlsx'),\n",
    "     engine='openpyxl',\n",
    ")\n",
    "df16=pd.read_excel(\n",
    "     os.path.join(\"C:\\\\Users\\\\Athul krishna\\\\myexcels\\\\\",\"production\\\\\", 'product08.xml.xlsx'),\n",
    "     engine='openpyxl',\n",
    ")\n",
    "\n",
    "\n",
    "#df1=pd.concat([df12,df13,df14,df15,df16])\n",
    "df1=pd.concat([df12])\n",
    "df1.head()"
   ]
  },
  {
   "cell_type": "code",
   "execution_count": 3,
   "metadata": {},
   "outputs": [
    {
     "data": {
      "text/plain": [
       "(1000, 78)"
      ]
     },
     "execution_count": 3,
     "metadata": {},
     "output_type": "execute_result"
    }
   ],
   "source": [
    "df1.shape"
   ]
  },
  {
   "cell_type": "code",
   "execution_count": 4,
   "metadata": {},
   "outputs": [],
   "source": [
    "df2=df1.loc[:, ['running_time','first_revolution','second_revolution','ins_rpm']]"
   ]
  },
  {
   "cell_type": "code",
   "execution_count": 5,
   "metadata": {},
   "outputs": [
    {
     "data": {
      "text/html": [
       "<div>\n",
       "<style scoped>\n",
       "    .dataframe tbody tr th:only-of-type {\n",
       "        vertical-align: middle;\n",
       "    }\n",
       "\n",
       "    .dataframe tbody tr th {\n",
       "        vertical-align: top;\n",
       "    }\n",
       "\n",
       "    .dataframe thead th {\n",
       "        text-align: right;\n",
       "    }\n",
       "</style>\n",
       "<table border=\"1\" class=\"dataframe\">\n",
       "  <thead>\n",
       "    <tr style=\"text-align: right;\">\n",
       "      <th></th>\n",
       "      <th>running_time</th>\n",
       "      <th>first_revolution</th>\n",
       "      <th>second_revolution</th>\n",
       "      <th>ins_rpm</th>\n",
       "    </tr>\n",
       "  </thead>\n",
       "  <tbody>\n",
       "    <tr>\n",
       "      <th>0</th>\n",
       "      <td>530</td>\n",
       "      <td>7024</td>\n",
       "      <td>34</td>\n",
       "      <td>795.169811</td>\n",
       "    </tr>\n",
       "    <tr>\n",
       "      <th>1</th>\n",
       "      <td>27343</td>\n",
       "      <td>277923</td>\n",
       "      <td>1283</td>\n",
       "      <td>609.859196</td>\n",
       "    </tr>\n",
       "    <tr>\n",
       "      <th>2</th>\n",
       "      <td>29805</td>\n",
       "      <td>232915</td>\n",
       "      <td>1418</td>\n",
       "      <td>468.877705</td>\n",
       "    </tr>\n",
       "    <tr>\n",
       "      <th>3</th>\n",
       "      <td>30921</td>\n",
       "      <td>331270</td>\n",
       "      <td>2111</td>\n",
       "      <td>642.904030</td>\n",
       "    </tr>\n",
       "    <tr>\n",
       "      <th>4</th>\n",
       "      <td>23062</td>\n",
       "      <td>267630</td>\n",
       "      <td>1532</td>\n",
       "      <td>696.246639</td>\n",
       "    </tr>\n",
       "  </tbody>\n",
       "</table>\n",
       "</div>"
      ],
      "text/plain": [
       "   running_time  first_revolution  second_revolution     ins_rpm\n",
       "0           530              7024                 34  795.169811\n",
       "1         27343            277923               1283  609.859196\n",
       "2         29805            232915               1418  468.877705\n",
       "3         30921            331270               2111  642.904030\n",
       "4         23062            267630               1532  696.246639"
      ]
     },
     "execution_count": 5,
     "metadata": {},
     "output_type": "execute_result"
    }
   ],
   "source": [
    "df2.head()"
   ]
  },
  {
   "cell_type": "code",
   "execution_count": 6,
   "metadata": {},
   "outputs": [
    {
     "data": {
      "text/plain": [
       "running_time         0\n",
       "first_revolution     0\n",
       "second_revolution    0\n",
       "ins_rpm              0\n",
       "dtype: int64"
      ]
     },
     "execution_count": 6,
     "metadata": {},
     "output_type": "execute_result"
    }
   ],
   "source": [
    "df2.shape\n",
    "df2.isnull().sum()"
   ]
  },
  {
   "cell_type": "code",
   "execution_count": 7,
   "metadata": {},
   "outputs": [
    {
     "data": {
      "text/plain": [
       "0      7024\n",
       "1    277923\n",
       "2    232915\n",
       "3    331270\n",
       "4    267630\n",
       "Name: first_revolution, dtype: int64"
      ]
     },
     "execution_count": 7,
     "metadata": {},
     "output_type": "execute_result"
    }
   ],
   "source": [
    "y=df2.first_revolution\n",
    "y.head()"
   ]
  },
  {
   "cell_type": "code",
   "execution_count": 8,
   "metadata": {},
   "outputs": [
    {
     "data": {
      "text/html": [
       "<div>\n",
       "<style scoped>\n",
       "    .dataframe tbody tr th:only-of-type {\n",
       "        vertical-align: middle;\n",
       "    }\n",
       "\n",
       "    .dataframe tbody tr th {\n",
       "        vertical-align: top;\n",
       "    }\n",
       "\n",
       "    .dataframe thead th {\n",
       "        text-align: right;\n",
       "    }\n",
       "</style>\n",
       "<table border=\"1\" class=\"dataframe\">\n",
       "  <thead>\n",
       "    <tr style=\"text-align: right;\">\n",
       "      <th></th>\n",
       "      <th>running_time</th>\n",
       "    </tr>\n",
       "  </thead>\n",
       "  <tbody>\n",
       "    <tr>\n",
       "      <th>0</th>\n",
       "      <td>530</td>\n",
       "    </tr>\n",
       "    <tr>\n",
       "      <th>1</th>\n",
       "      <td>27343</td>\n",
       "    </tr>\n",
       "    <tr>\n",
       "      <th>2</th>\n",
       "      <td>29805</td>\n",
       "    </tr>\n",
       "    <tr>\n",
       "      <th>3</th>\n",
       "      <td>30921</td>\n",
       "    </tr>\n",
       "    <tr>\n",
       "      <th>4</th>\n",
       "      <td>23062</td>\n",
       "    </tr>\n",
       "  </tbody>\n",
       "</table>\n",
       "</div>"
      ],
      "text/plain": [
       "   running_time\n",
       "0           530\n",
       "1         27343\n",
       "2         29805\n",
       "3         30921\n",
       "4         23062"
      ]
     },
     "execution_count": 8,
     "metadata": {},
     "output_type": "execute_result"
    }
   ],
   "source": [
    "ff=df2.drop('first_revolution',axis='columns')\n",
    "pp=ff.drop('ins_rpm',axis='columns')\n",
    "x=pp.drop('second_revolution',axis='columns')\n",
    "x.head()"
   ]
  },
  {
   "cell_type": "code",
   "execution_count": 9,
   "metadata": {},
   "outputs": [],
   "source": [
    "from sklearn.model_selection import train_test_split\n",
    "x_train,x_test,y_train,y_test=train_test_split(x,y,test_size=0.2,random_state=10)"
   ]
  },
  {
   "cell_type": "code",
   "execution_count": 10,
   "metadata": {},
   "outputs": [
    {
     "data": {
      "text/plain": [
       "LinearRegression()"
      ]
     },
     "execution_count": 10,
     "metadata": {},
     "output_type": "execute_result"
    }
   ],
   "source": [
    "from sklearn.linear_model import LinearRegression\n",
    "from sklearn.linear_model import Lasso\n",
    "l=LinearRegression()\n",
    "l.fit(x_train,y_train)\n",
    "#l.score(x_test,y_test)\n"
   ]
  },
  {
   "cell_type": "code",
   "execution_count": 11,
   "metadata": {},
   "outputs": [],
   "source": [
    "pickle.dump(l,open('model.pkl','wb'))\n",
    "#model="
   ]
  },
  {
   "cell_type": "code",
   "execution_count": 17,
   "metadata": {},
   "outputs": [
    {
     "data": {
      "text/plain": [
       "array([0.85466826, 0.82444528, 0.78956836, 0.80488186, 0.80902841])"
      ]
     },
     "execution_count": 17,
     "metadata": {},
     "output_type": "execute_result"
    }
   ],
   "source": [
    "from sklearn.model_selection import ShuffleSplit\n",
    "from sklearn.model_selection import cross_val_score\n",
    "cv=ShuffleSplit(n_splits=5,test_size=0.1,random_state=0)\n",
    "cross_val_score(LinearRegression(),x,y,cv=cv)\n"
   ]
  },
  {
   "cell_type": "code",
   "execution_count": 16,
   "metadata": {},
   "outputs": [
    {
     "data": {
      "text/plain": [
       "array([0.85466826, 0.82444528, 0.78956836, 0.80488186, 0.80902841])"
      ]
     },
     "execution_count": 16,
     "metadata": {},
     "output_type": "execute_result"
    }
   ],
   "source": [
    "cross_val_score(Lasso(),x,y,cv=cv)"
   ]
  },
  {
   "cell_type": "code",
   "execution_count": 28,
   "metadata": {},
   "outputs": [
    {
     "name": "stdout",
     "output_type": "stream",
     "text": [
      "193205.505847921\n"
     ]
    }
   ],
   "source": [
    "def predict(rt):\n",
    "    k=np.zeros(len(x.columns))\n",
    "    k[0]=rt\n",
    "    return l.predict([k])[0]\n",
    "print(predict(20598))"
   ]
  },
  {
   "cell_type": "code",
   "execution_count": 29,
   "metadata": {},
   "outputs": [],
   "source": [
    "import glob, os\n",
    "os.chdir(\"C:\\\\Users\\\\Athul krishna\\\\myexcels\\\\production\\\\\")\n",
    "import openpyxl \n",
    "from datetime import datetime"
   ]
  },
  {
   "cell_type": "code",
   "execution_count": 30,
   "metadata": {},
   "outputs": [],
   "source": [
    "def extract(file,c1,c2,c3):\n",
    "    wb_obj = openpyxl.load_workbook(file) \n",
    "    sheet_obj = wb_obj.active\n",
    "    l=[]\n",
    "\n",
    "\n",
    "    for i in range(2,20+1):\n",
    "        val=predict(float(sheet_obj.cell(row = i, column = c1).value),float(sheet_obj.cell(row = i, column = c2).value))\n",
    "        print(\"Actual:\",float(sheet_obj.cell(row = i, column = c3).value),\"Predicted:\",val)\n",
    "        \n",
    "    #print(l,co)\n",
    "    #return [co,ca,cb,cc]\n",
    "#extract(\"C:\\\\Users\\\\Athul krishna\\\\myexcels\\\\product11.xml.xlsx\",12,13"
   ]
  },
  {
   "cell_type": "code",
   "execution_count": 146,
   "metadata": {},
   "outputs": [
    {
     "name": "stdout",
     "output_type": "stream",
     "text": [
      "Actual: 140244.0 Predicted: 126535.73337571594\n",
      "Actual: 108806.0 Predicted: 115886.77601251226\n",
      "Actual: 5915.0 Predicted: -4885.709475749185\n",
      "Actual: 0.0 Predicted: -11922.050497296907\n",
      "Actual: 95760.0 Predicted: 96802.34613702851\n",
      "Actual: 0.0 Predicted: -11922.050497296907\n",
      "Actual: 65247.0 Predicted: 71058.42140207338\n",
      "Actual: 0.0 Predicted: -11922.050497296907\n",
      "Actual: 93588.0 Predicted: 98848.02807995523\n",
      "Actual: 0.0 Predicted: -11922.050497296907\n",
      "Actual: 0.0 Predicted: -11922.050497296907\n",
      "Actual: 3150.0 Predicted: -6166.001516488611\n",
      "Actual: 93159.0 Predicted: 109253.1288918838\n",
      "Actual: 12454.0 Predicted: 4599.510376079146\n",
      "Actual: 114528.0 Predicted: 125819.84432367585\n",
      "Actual: 0.0 Predicted: -10011.195986747278\n",
      "Actual: 0.0 Predicted: -11922.050497296907\n",
      "Actual: 0.0 Predicted: -11922.050497296907\n",
      "Actual: 0.0 Predicted: -11922.050497296907\n",
      "Actual: 0.0 Predicted: -11922.050497296907\n",
      "Actual: 0.0 Predicted: -11922.050497296907\n",
      "Actual: 0.0 Predicted: -11922.050497296907\n",
      "Actual: 0.0 Predicted: -11922.050497296907\n",
      "Actual: 0.0 Predicted: -11922.050497296907\n",
      "Actual: 0.0 Predicted: -11922.050497296907\n",
      "Actual: 0.0 Predicted: -11922.050497296907\n",
      "Actual: 18747.0 Predicted: 11718.669509701405\n",
      "Actual: 171819.0 Predicted: 187369.24422369263\n",
      "Actual: 169744.0 Predicted: 190054.0973888195\n",
      "Actual: 122344.0 Predicted: 128685.21040972127\n",
      "Actual: 199618.0 Predicted: 220629.56441584337\n",
      "Actual: 99654.0 Predicted: 102891.39361294756\n",
      "Actual: 1148476.0 Predicted: 213648.85247036826\n",
      "Actual: 224827.0 Predicted: 239179.64561474783\n",
      "Actual: 1.0 Predicted: -11922.050497296907\n",
      "Actual: 91808.0 Predicted: 87366.65507903819\n",
      "Actual: 2994.0 Predicted: -4083.941429680731\n",
      "Actual: 304699.0 Predicted: 314435.29356404097\n",
      "Actual: 198020.0 Predicted: 210631.69940240096\n",
      "Actual: 0.0 Predicted: -11922.050497296907\n",
      "Actual: 69256.0 Predicted: 72619.6746739302\n",
      "Actual: 341628.0 Predicted: 334814.4945033444\n",
      "Actual: 248409.0 Predicted: 284466.267314797\n",
      "Actual: 212493.0 Predicted: 235901.88707145152\n",
      "Actual: 0.0 Predicted: -11922.050497296907\n",
      "Actual: 113721.0 Predicted: 123477.21316724757\n",
      "Actual: 0.0 Predicted: -11922.050497296907\n",
      "Actual: 289275.0 Predicted: 283777.28139983286\n",
      "Actual: 50744.0 Predicted: 114941.73507742351\n",
      "Actual: 0.0 Predicted: -11922.050497296907\n",
      "Actual: 0.0 Predicted: -11922.050497296907\n",
      "Actual: 98077.0 Predicted: 83351.67369873493\n",
      "Actual: 0.0 Predicted: -11922.050497296907\n",
      "Actual: 514.0 Predicted: -10211.735801182236\n",
      "Actual: 345369.0 Predicted: 338410.98960617994\n",
      "Actual: 214901.0 Predicted: 235805.9247714379\n",
      "Actual: 324320.0 Predicted: 323008.9617712509\n",
      "Actual: 0.0 Predicted: -11922.050497296907\n",
      "Actual: 285967.0 Predicted: 250454.56766281324\n",
      "Actual: 318520.0 Predicted: 283073.6832053522\n",
      "Actual: 238242.0 Predicted: 253678.70261375763\n",
      "Actual: 244814.0 Predicted: 214361.19913569296\n",
      "Actual: 159228.0 Predicted: 189061.48162262997\n",
      "Actual: 0.0 Predicted: -11922.050497296907\n",
      "Actual: 161916.0 Predicted: 190109.97795810946\n",
      "Actual: 1537.0 Predicted: -10077.076030950022\n",
      "Actual: 196111.0 Predicted: 206800.65509295062\n",
      "Actual: 201675.0 Predicted: 231775.98932531054\n",
      "Actual: 0.0 Predicted: -11922.050497296907\n",
      "Actual: 137665.0 Predicted: 166644.89365017303\n",
      "Actual: 272465.0 Predicted: 253619.36348882475\n",
      "Actual: 74892.0 Predicted: 64052.60973538952\n",
      "Actual: 241035.0 Predicted: 260185.68395534594\n",
      "Actual: 248262.0 Predicted: 230539.42671475568\n",
      "Actual: 0.0 Predicted: -6450.058035268425\n",
      "Actual: 202427.0 Predicted: 227825.16194239742\n",
      "Actual: 279666.0 Predicted: 260456.69513691438\n",
      "Actual: 202210.0 Predicted: 220713.82913782238\n",
      "Actual: 232531.0 Predicted: 217000.33886858757\n",
      "Actual: 341723.0 Predicted: 319665.2672963702\n",
      "Actual: 341100.0 Predicted: 328844.8174075437\n",
      "Actual: 243994.0 Predicted: 266642.9129535698\n",
      "Actual: 239776.0 Predicted: 259451.4381692204\n",
      "Actual: 0.0 Predicted: -11878.621985693506\n",
      "Actual: 289495.0 Predicted: 285698.2471600586\n",
      "Actual: 237333.0 Predicted: 248807.74277752696\n",
      "Actual: 230863.0 Predicted: 248435.9414994521\n",
      "Actual: 192811.0 Predicted: 203373.3944883612\n",
      "Actual: 92774.0 Predicted: 115874.60339173385\n",
      "Actual: 316745.0 Predicted: 287055.59881694545\n",
      "Actual: 186050.0 Predicted: 190884.92023615655\n",
      "Actual: 160342.0 Predicted: 142038.82428204175\n",
      "Actual: 0.0 Predicted: 31115.604501673137\n",
      "Actual: 5409.0 Predicted: -8780.376852464236\n",
      "Actual: 0.0 Predicted: 10964.775117695237\n",
      "Actual: 199036.0 Predicted: 253516.21756465262\n",
      "Actual: 1541177.0 Predicted: 272563.48041089467\n",
      "Actual: 0.0 Predicted: -11922.050497296907\n",
      "Actual: 0.0 Predicted: -11922.050497296907\n",
      "Actual: 262627.0 Predicted: 222718.22130930272\n",
      "Actual: 199591.0 Predicted: 217119.1783185805\n",
      "Actual: 231029.0 Predicted: 220659.3392910553\n",
      "Actual: 264787.0 Predicted: 238832.82582110073\n",
      "Actual: 174928.0 Predicted: 202074.82954460874\n",
      "Actual: 14.0 Predicted: -11905.503641096486\n",
      "Actual: 0.0 Predicted: -11922.050497296907\n",
      "Actual: 104116.0 Predicted: 155423.69404518724\n",
      "Actual: 0.0 Predicted: -11922.050497296907\n",
      "Actual: 376367.0 Predicted: 294561.6250692299\n",
      "Actual: 319.0 Predicted: -11487.709493881275\n",
      "Actual: 269.0 Predicted: -11622.145714586988\n",
      "Actual: 707.0 Predicted: -10921.021584553091\n",
      "Actual: 286756.0 Predicted: 277498.1406834447\n",
      "Actual: 0.0 Predicted: -11922.050497296907\n",
      "Actual: 7024.0 Predicted: -6060.564209669852\n",
      "Actual: 277923.0 Predicted: 270017.0744339149\n",
      "Actual: 232915.0 Predicted: 296249.10348309163\n",
      "Actual: 331270.0 Predicted: 335578.207784083\n",
      "Actual: 267630.0 Predicted: 245412.22812616164\n",
      "Actual: 69207.0 Predicted: 134043.72214837506\n",
      "Actual: 334295.0 Predicted: 293389.6979608268\n",
      "Actual: 13944.0 Predicted: 57726.92583368215\n",
      "Actual: 251398.0 Predicted: 255788.16882407613\n",
      "Actual: 339035.0 Predicted: 316243.6813566354\n",
      "Actual: 221070.0 Predicted: 195088.8985909695\n",
      "Actual: 2350.0 Predicted: -11314.051334849297\n",
      "Actual: 271849.0 Predicted: 288870.37279070046\n",
      "Actual: 135682.0 Predicted: 245782.18302502314\n",
      "Actual: 141810.0 Predicted: 165247.7396994706\n",
      "Actual: 130467.0 Predicted: 163935.05253860063\n",
      "Actual: 0.0 Predicted: -11531.1938928663\n",
      "Actual: 40926.0 Predicted: 34459.42367535265\n",
      "Actual: 14456.0 Predicted: 6465.154440831149\n"
     ]
    }
   ],
   "source": [
    "for file in glob.glob(\"*.xlsx\"):\n",
    "    extract(file,11,13,12)"
   ]
  },
  {
   "cell_type": "code",
   "execution_count": 147,
   "metadata": {},
   "outputs": [
    {
     "data": {
      "text/plain": [
       "0.8118795020594881"
      ]
     },
     "execution_count": 147,
     "metadata": {},
     "output_type": "execute_result"
    }
   ],
   "source": []
  },
  {
   "cell_type": "code",
   "execution_count": 148,
   "metadata": {},
   "outputs": [
    {
     "data": {
      "text/plain": [
       "array([0.56126559, 0.60878834, 0.82588422, 0.91665027, 0.71785643])"
      ]
     },
     "execution_count": 148,
     "metadata": {},
     "output_type": "execute_result"
    }
   ],
   "source": []
  },
  {
   "cell_type": "code",
   "execution_count": null,
   "metadata": {},
   "outputs": [],
   "source": []
  }
 ],
 "metadata": {
  "hide_input": false,
  "kernelspec": {
   "display_name": "Python 3",
   "language": "python",
   "name": "python3"
  },
  "language_info": {
   "codemirror_mode": {
    "name": "ipython",
    "version": 3
   },
   "file_extension": ".py",
   "mimetype": "text/x-python",
   "name": "python",
   "nbconvert_exporter": "python",
   "pygments_lexer": "ipython3",
   "version": "3.8.5"
  }
 },
 "nbformat": 4,
 "nbformat_minor": 4
}
