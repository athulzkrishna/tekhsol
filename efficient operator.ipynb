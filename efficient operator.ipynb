{
 "cells": [
  {
   "cell_type": "markdown",
   "metadata": {},
   "source": [
    "# Operator wise production:\n",
    "The **analysis** is based on the number of *first revolutions* and number of *second revolutions*  .The **Running time of each operator** is taken into consideration to check for the *efficiency* of every **OPERATOR**."
   ]
  },
  {
   "cell_type": "code",
   "execution_count": 1,
   "metadata": {},
   "outputs": [],
   "source": [
    "#importing required packages and modules\n",
    "import openpyxl \n",
    "from datetime import datetime\n",
    "import glob, os\n",
    "os.chdir(\"C:\\\\Users\\\\Athul krishna\\\\myexcels\\\\production\\\\\")"
   ]
  },
  {
   "cell_type": "code",
   "execution_count": 2,
   "metadata": {},
   "outputs": [],
   "source": [
    "def extract(file,c1,c2,c3,c4,w):\n",
    "    wb_obj = openpyxl.load_workbook(file) \n",
    "    sheet_obj = wb_obj.active\n",
    "    l=[]\n",
    "    co=0\n",
    "    ca=0\n",
    "    cb=0\n",
    "    cc=0\n",
    "    for i in range(2,sheet_obj.max_row+1):\n",
    "        a=float(sheet_obj.cell(row = i, column = c2).value)\n",
    "        b=float(sheet_obj.cell(row = i, column = c3).value)\n",
    "        c=float(sheet_obj.cell(row = i, column = c1).value)\n",
    "        if c!=0:\n",
    "            s=(a+b)*c\n",
    "        else:\n",
    "            s=0\n",
    "        w[str(sheet_obj.cell(row = i, column = c4).value)]+=s\n"
   ]
  },
  {
   "cell_type": "code",
   "execution_count": 3,
   "metadata": {},
   "outputs": [
    {
     "name": "stdout",
     "output_type": "stream",
     "text": [
      "defaultdict(<function <lambda> at 0x05538B20>, {'546': 102098455874.0, '141': 17791884783.0, '329': 16955540392.0, '397': 81581814197.0, '473': 17054178112.0, '492': 23142410804.0, '299': 1005023673231.0, '425': 372243058212.0, '293': 410602500490.0, '320': 392126710785.0, '307': 143993385468.0, '303': 105885949226.0, '321': 799944731249.0, '527': 2338683361174.0, '470': 1123005598694.0, '504': 187220017184.0, '90': 728413035619.0, '462': 180459599103.0, '295': 472266755740.0, '457': 316426086902.0, '475': 460050913674.0, '221': 161581924160.0, '566': 378907039688.0, '405': 129116771462.0, '140': 21439171040.0, '121': 154771992181.0, '202': 55546098311.0, '162': 32921901043.0, '70': 47214755238.0, '69': 157365975143.0, '44': 17440872431.0, '63': 6675885904.0, '88': 68454664631.0, '95': 94254922742.0, '282': 35549792831.0, '322': 146502503561.0, '324': 505052018651.0, '318': 755026081461.0, '586': 94089895280.0, '583': 100873420673.0, '611': 129758736932.0, '539': 141880490767.0, '89': 93685726228.0, '185': 79897239082.0, '568': 74752546913.0, '247': 78696490996.0, '248': 63457022647.0, '261': 87249508589.0, '189': 103506865621.0, '58': 105273895094.0, '237': 76056424274.0, '182': 51738070332.0, '423': 94635054345.0, '252': 77191517408.0, '181': 24540110579.0, '532': 95356813001.0, '556': 40225112449.0, '254': 59107362548.0, '240': 47102953578.0, '243': 143867142885.0, '291': 34596777049.0, '574': 17567530658.0, '68': 74557185382.0, '283': 116830618531.0, '619': 57561566621.0, '576': 139824136459.0, '232': 35525443280.0, '582': 71647487840.0, '579': 47574715871.0, '342': 14997901177.0, '253': 52492274030.0, '580': 58161440084.0, '538': 82180234090.0, '496': 33213247804.0, '616': 86765256113.0, '569': 50959269095.0, '469': 21311784986.0, '408': 30349449205.0, '276': 107149535965.0, '317': 42033802947.0, '59': 81201116326.0, '561': 46676220445.0, '562': 15400858907.0, '549': 87623316300.0, '51': 49416772671.0, '274': 37713031072.0, '79': 16850480603.0, '552': 33413924097.0, '238': 14175646153.0, '560': 9259102700.0, '285': 25864485412.0, '345': 112058567675.0, '451': 9152936845.0, '201': 40859231476.0, '570': 60220025770.0, '571': 68468727515.0, '142': 48143379753.0, '343': 37769817381.0, '530': 4394340506.0, '75': 22261011037.0, '551': 4660906144.0, '587': 19010985472.0, '581': 6663161904.0, '563': 6198495732.0, '400': 42642831855.0, '493': 325192183644.0, '129': 102072459531.0, '696': 66734454368.0, '407': 38322257620.0, '700': 37923251800.0, '268': 103777268824.0, '697': 42568715258.0, '701': 58692171521.0, '575': 135203545217.0, '573': 11826409994.0, '613': 4083956295.0, '620': 13866379259.0, '97': 4248316570.0, '699': 8044467970.0, '239': 30841243159.0, '235': 22940639760.0, '80': 58847117833.0, '430': 9030153880.0, '255': 5832669298.0, '294': 18052584248.0, '210': 8338749612.0, '114': 2696326851.0, '585': 8844192728.0, '152': 179313225011.0, '219': 86072069771.0, '257': 140261731364.0, '166': 44288637997.0, '258': 18851453502.0, '131': 41710523778.0, '167': 59232220676.0, '86': 26791909930.0, '148': 65891783776.0, '55': 0, '555': 86884158468.0, '617': 13451146641.0, '534': 5072628038.0, '454': 32746079249.0, '226': 11579703520.0, '341': 6907734288.0, '171': 19339869006.0, '437': 5686183680.0, '520': 2098970586.0})\n"
     ]
    }
   ],
   "source": [
    "from collections import defaultdict\n",
    "w=defaultdict(lambda:0)\n",
    "for file in glob.glob(\"*.xlsx\"):\n",
    "    extract(file,11,12,13,34,w)\n",
    "\n",
    "del w['0']\n",
    "print(w) \n"
   ]
  },
  {
   "cell_type": "code",
   "execution_count": 4,
   "metadata": {},
   "outputs": [
    {
     "name": "stdout",
     "output_type": "stream",
     "text": [
      "['527', '470', '299', '321', '318', '90', '324']\n",
      "[2338683361174.0, 1123005598694.0, 1005023673231.0, 799944731249.0, 755026081461.0, 728413035619.0, 505052018651.0]\n"
     ]
    }
   ],
   "source": [
    "l=[[w[i],i] for i in w.keys()]\n",
    "l.sort(reverse=True)\n",
    "operator=[]\n",
    "value=[]\n",
    "#print(l) \n",
    "for j in range(7):\n",
    "    operator.append(l[j][1])\n",
    "    value.append(l[j][0])\n",
    "print(operator)\n",
    "print(value)"
   ]
  },
  {
   "cell_type": "code",
   "execution_count": 2,
   "metadata": {},
   "outputs": [
    {
     "data": {
      "image/png": "[encoded data removed]",
      "text/plain": [
       "<Figure size 720x360 with 1 Axes>"
      ]
     },
     "metadata": {
      "needs_background": "light"
     },
     "output_type": "display_data"
    }
   ],
   "source": [
    "o=['527', '470', '299', '321', '318', '90', '324']\n",
    "v=[2338683361174.0, 1123005598694.0, 1005023673231.0, 799944731249.0, 755026081461.0, 728413035619.0, 505052018651.0]\n",
    "import numpy as np \n",
    "import matplotlib.pyplot as plt  \n",
    "  \n",
    "   \n",
    "fig = plt.figure(figsize = (10, 5)) \n",
    "  \n",
    "# creating the bar plot \n",
    "plt.bar(o,v , color ='black',  \n",
    "        width = 0.4) \n",
    "  \n",
    "plt.xlabel(\"OPERATOR\") \n",
    "plt.ylabel(\"No. of Revolutions\") \n",
    "plt.title(\"BEST REVOLUTIONIZER\") \n",
    "plt.show() "
   ]
  },
  {
   "cell_type": "markdown",
   "metadata": {},
   "source": [
    "# Operator Wise Stoppage:\n",
    "The **analysis** is based on the *stoppage duration* spent by each **operator** in the industry."
   ]
  },
  {
   "cell_type": "code",
   "execution_count": 10,
   "metadata": {},
   "outputs": [],
   "source": [
    "os.chdir(\"C:\\\\Users\\\\Athul krishna\\\\myexcels\\\\stoppages\\\\\")"
   ]
  },
  {
   "cell_type": "code",
   "execution_count": 11,
   "metadata": {},
   "outputs": [
    {
     "name": "stdout",
     "output_type": "stream",
     "text": [
      "stop06.xml.xlsx\n",
      "stop07.xml.xlsx\n",
      "stop08.xml.xlsx\n",
      "stop09.xml.xlsx\n",
      "stop10.xml.xlsx\n",
      "stop11.xml.xlsx\n",
      "stop12.xml.xlsx\n"
     ]
    }
   ],
   "source": [
    "for file in glob.glob(\"*.xlsx\"):\n",
    "    print(file)"
   ]
  },
  {
   "cell_type": "code",
   "execution_count": 12,
   "metadata": {},
   "outputs": [],
   "source": [
    "def extract(file,c1,c2,ss):\n",
    "    wb_obj = openpyxl.load_workbook(file) \n",
    "    sheet_obj = wb_obj.active\n",
    "\n",
    "\n",
    "    for i in range(2,sheet_obj.max_row+1):\n",
    "        c=float(sheet_obj.cell(row = i, column = c1).value)\n",
    "\n",
    "        ss[str(sheet_obj.cell(row = i, column = c2).value)]+=c"
   ]
  },
  {
   "cell_type": "code",
   "execution_count": 13,
   "metadata": {},
   "outputs": [
    {
     "name": "stdout",
     "output_type": "stream",
     "text": [
      "defaultdict(<function <lambda> at 0x0A0E3BB0>, {'0': 2024945.0, '293': 34015.0, '527': 132785.0, '299': 232153.0, '425': 138636.0, '307': 44457.0, '321': 131811.0, '320': 34622.0, '303': 17364.0, '504': 28888.0, '295': 85418.0, '457': 67118.0, '470': 42233.0, '475': 88237.0, '566': 55007.0, '462': 30973.0, '221': 24206.0, '90': 84042.0, '322': 26175.0, '318': 193556.0, '324': 143251.0, '493': 191382.0, '129': 61778.0})\n"
     ]
    }
   ],
   "source": [
    "from collections import defaultdict\n",
    "ss=defaultdict(lambda:0)\n",
    "for file in glob.glob(\"*.xlsx\"):\n",
    "    extract(file,21,9,ss)\n",
    "\n",
    "\n",
    "print(ss) "
   ]
  },
  {
   "cell_type": "code",
   "execution_count": 14,
   "metadata": {},
   "outputs": [
    {
     "name": "stdout",
     "output_type": "stream",
     "text": [
      "[132785.0, 42233.0, 232153.0, 131811.0, 193556.0, 84042.0, 143251.0]\n"
     ]
    }
   ],
   "source": [
    "dur=[]\n",
    "for j in range(7):\n",
    "    dur.append(ss[operator[j]])\n",
    "print(dur)    "
   ]
  },
  {
   "cell_type": "code",
   "execution_count": 16,
   "metadata": {
    "scrolled": true
   },
   "outputs": [
    {
     "name": "stdout",
     "output_type": "stream",
     "text": [
      "[[17364.0, '303'], [24206.0, '221'], [26175.0, '322'], [28888.0, '504'], [30973.0, '462'], [34015.0, '293'], [34622.0, '320']]\n",
      "[[132785.0, '527'], [138636.0, '425'], [143251.0, '324'], [191382.0, '493'], [193556.0, '318'], [232153.0, '299'], [2024945.0, '0']]\n"
     ]
    }
   ],
   "source": [
    "k=[[ss[i],i] for i in ss.keys()]\n",
    "k.sort()\n",
    "first7=k[:7]\n",
    "last7=k[len(k)-7:]\n",
    "    \n",
    "print(first7)\n",
    "print(last7)\n"
   ]
  },
  {
   "cell_type": "code",
   "execution_count": 17,
   "metadata": {},
   "outputs": [
    {
     "name": "stdout",
     "output_type": "stream",
     "text": [
      "[105885949226.0, 161581924160.0, 146502503561.0, 187220017184.0, 180459599103.0, 410602500490.0, 392126710785.0]\n"
     ]
    }
   ],
   "source": [
    "dur2=[]\n",
    "for i in range(7):\n",
    "    dur2.append(w[first7[i][1]])\n",
    "print(dur2)    \n",
    "    "
   ]
  },
  {
   "cell_type": "code",
   "execution_count": null,
   "metadata": {},
   "outputs": [],
   "source": []
  }
 ],
 "metadata": {
  "hide_input": false,
  "kernelspec": {
   "display_name": "Python 3",
   "language": "python",
   "name": "python3"
  },
  "language_info": {
   "codemirror_mode": {
    "name": "ipython",
    "version": 3
   },
   "file_extension": ".py",
   "mimetype": "text/x-python",
   "name": "python",
   "nbconvert_exporter": "python",
   "pygments_lexer": "ipython3",
   "version": "3.8.5"
  }
 },
 "nbformat": 4,
 "nbformat_minor": 4
}
